{
 "cells": [
  {
   "cell_type": "code",
   "execution_count": 25,
   "metadata": {
    "id": "OqFFgOOHUqEj"
   },
   "outputs": [],
   "source": [
    "# Importing the necessary libraries\n",
    "\n",
    "import numpy as np\n",
    "import pandas as pd\n",
    "import seaborn as sns\n",
    "import matplotlib.pyplot as plt\n",
    "import warnings\n",
    "warnings.filterwarnings('ignore')"
   ]
  },
  {
   "cell_type": "markdown",
   "metadata": {
    "id": "LpKkeRN7l6py"
   },
   "source": [
    "### Understanding the data"
   ]
  },
  {
   "cell_type": "code",
   "execution_count": 26,
   "metadata": {
    "id": "tcUX4eA6d-kB"
   },
   "outputs": [],
   "source": [
    "# Loading the dataset\n",
    "\n",
    "df = pd.read_csv('Students Social Media Addiction.csv')"
   ]
  },
  {
   "cell_type": "code",
   "execution_count": 27,
   "metadata": {
    "colab": {
     "base_uri": "https://localhost:8080/",
     "height": 226
    },
    "id": "q4IV_b7MmR3U",
    "outputId": "a07fc967-ef27-4536-fac5-c52ca62c9bdd"
   },
   "outputs": [
    {
     "data": {
      "text/html": [
       "<div>\n",
       "<style scoped>\n",
       "    .dataframe tbody tr th:only-of-type {\n",
       "        vertical-align: middle;\n",
       "    }\n",
       "\n",
       "    .dataframe tbody tr th {\n",
       "        vertical-align: top;\n",
       "    }\n",
       "\n",
       "    .dataframe thead th {\n",
       "        text-align: right;\n",
       "    }\n",
       "</style>\n",
       "<table border=\"1\" class=\"dataframe\">\n",
       "  <thead>\n",
       "    <tr style=\"text-align: right;\">\n",
       "      <th></th>\n",
       "      <th>Student_ID</th>\n",
       "      <th>Age</th>\n",
       "      <th>Gender</th>\n",
       "      <th>Academic_Level</th>\n",
       "      <th>Country</th>\n",
       "      <th>Avg_Daily_Usage_Hours</th>\n",
       "      <th>Most_Used_Platform</th>\n",
       "      <th>Affects_Academic_Performance</th>\n",
       "      <th>Sleep_Hours_Per_Night</th>\n",
       "      <th>Mental_Health_Score</th>\n",
       "      <th>Relationship_Status</th>\n",
       "      <th>Conflicts_Over_Social_Media</th>\n",
       "      <th>Addicted_Score</th>\n",
       "    </tr>\n",
       "  </thead>\n",
       "  <tbody>\n",
       "    <tr>\n",
       "      <th>0</th>\n",
       "      <td>1</td>\n",
       "      <td>19</td>\n",
       "      <td>Female</td>\n",
       "      <td>Undergraduate</td>\n",
       "      <td>Bangladesh</td>\n",
       "      <td>5.2</td>\n",
       "      <td>Instagram</td>\n",
       "      <td>Yes</td>\n",
       "      <td>6.5</td>\n",
       "      <td>6</td>\n",
       "      <td>In Relationship</td>\n",
       "      <td>3</td>\n",
       "      <td>8</td>\n",
       "    </tr>\n",
       "    <tr>\n",
       "      <th>1</th>\n",
       "      <td>2</td>\n",
       "      <td>22</td>\n",
       "      <td>Male</td>\n",
       "      <td>Graduate</td>\n",
       "      <td>India</td>\n",
       "      <td>2.1</td>\n",
       "      <td>Twitter</td>\n",
       "      <td>No</td>\n",
       "      <td>7.5</td>\n",
       "      <td>8</td>\n",
       "      <td>Single</td>\n",
       "      <td>0</td>\n",
       "      <td>3</td>\n",
       "    </tr>\n",
       "    <tr>\n",
       "      <th>2</th>\n",
       "      <td>3</td>\n",
       "      <td>20</td>\n",
       "      <td>Female</td>\n",
       "      <td>Undergraduate</td>\n",
       "      <td>USA</td>\n",
       "      <td>6.0</td>\n",
       "      <td>TikTok</td>\n",
       "      <td>Yes</td>\n",
       "      <td>5.0</td>\n",
       "      <td>5</td>\n",
       "      <td>Complicated</td>\n",
       "      <td>4</td>\n",
       "      <td>9</td>\n",
       "    </tr>\n",
       "    <tr>\n",
       "      <th>3</th>\n",
       "      <td>4</td>\n",
       "      <td>18</td>\n",
       "      <td>Male</td>\n",
       "      <td>High School</td>\n",
       "      <td>UK</td>\n",
       "      <td>3.0</td>\n",
       "      <td>YouTube</td>\n",
       "      <td>No</td>\n",
       "      <td>7.0</td>\n",
       "      <td>7</td>\n",
       "      <td>Single</td>\n",
       "      <td>1</td>\n",
       "      <td>4</td>\n",
       "    </tr>\n",
       "    <tr>\n",
       "      <th>4</th>\n",
       "      <td>5</td>\n",
       "      <td>21</td>\n",
       "      <td>Male</td>\n",
       "      <td>Graduate</td>\n",
       "      <td>Canada</td>\n",
       "      <td>4.5</td>\n",
       "      <td>Facebook</td>\n",
       "      <td>Yes</td>\n",
       "      <td>6.0</td>\n",
       "      <td>6</td>\n",
       "      <td>In Relationship</td>\n",
       "      <td>2</td>\n",
       "      <td>7</td>\n",
       "    </tr>\n",
       "  </tbody>\n",
       "</table>\n",
       "</div>"
      ],
      "text/plain": [
       "   Student_ID  Age  Gender Academic_Level     Country  Avg_Daily_Usage_Hours  \\\n",
       "0           1   19  Female  Undergraduate  Bangladesh                    5.2   \n",
       "1           2   22    Male       Graduate       India                    2.1   \n",
       "2           3   20  Female  Undergraduate         USA                    6.0   \n",
       "3           4   18    Male    High School          UK                    3.0   \n",
       "4           5   21    Male       Graduate      Canada                    4.5   \n",
       "\n",
       "  Most_Used_Platform Affects_Academic_Performance  Sleep_Hours_Per_Night  \\\n",
       "0          Instagram                          Yes                    6.5   \n",
       "1            Twitter                           No                    7.5   \n",
       "2             TikTok                          Yes                    5.0   \n",
       "3            YouTube                           No                    7.0   \n",
       "4           Facebook                          Yes                    6.0   \n",
       "\n",
       "   Mental_Health_Score Relationship_Status  Conflicts_Over_Social_Media  \\\n",
       "0                    6     In Relationship                            3   \n",
       "1                    8              Single                            0   \n",
       "2                    5         Complicated                            4   \n",
       "3                    7              Single                            1   \n",
       "4                    6     In Relationship                            2   \n",
       "\n",
       "   Addicted_Score  \n",
       "0               8  \n",
       "1               3  \n",
       "2               9  \n",
       "3               4  \n",
       "4               7  "
      ]
     },
     "execution_count": 27,
     "metadata": {},
     "output_type": "execute_result"
    }
   ],
   "source": [
    "# Showing the first five records from the dataframe\n",
    "\n",
    "df.head()"
   ]
  },
  {
   "cell_type": "code",
   "execution_count": 28,
   "metadata": {
    "colab": {
     "base_uri": "https://localhost:8080/",
     "height": 243
    },
    "id": "_x3uL4vp0naJ",
    "outputId": "6840552f-19b6-4142-dace-0b2ab4a381a5"
   },
   "outputs": [
    {
     "data": {
      "text/html": [
       "<div>\n",
       "<style scoped>\n",
       "    .dataframe tbody tr th:only-of-type {\n",
       "        vertical-align: middle;\n",
       "    }\n",
       "\n",
       "    .dataframe tbody tr th {\n",
       "        vertical-align: top;\n",
       "    }\n",
       "\n",
       "    .dataframe thead th {\n",
       "        text-align: right;\n",
       "    }\n",
       "</style>\n",
       "<table border=\"1\" class=\"dataframe\">\n",
       "  <thead>\n",
       "    <tr style=\"text-align: right;\">\n",
       "      <th></th>\n",
       "      <th>Student_ID</th>\n",
       "      <th>Age</th>\n",
       "      <th>Gender</th>\n",
       "      <th>Academic_Level</th>\n",
       "      <th>Country</th>\n",
       "      <th>Avg_Daily_Usage_Hours</th>\n",
       "      <th>Most_Used_Platform</th>\n",
       "      <th>Affects_Academic_Performance</th>\n",
       "      <th>Sleep_Hours_Per_Night</th>\n",
       "      <th>Mental_Health_Score</th>\n",
       "      <th>Relationship_Status</th>\n",
       "      <th>Conflicts_Over_Social_Media</th>\n",
       "      <th>Addicted_Score</th>\n",
       "    </tr>\n",
       "  </thead>\n",
       "  <tbody>\n",
       "    <tr>\n",
       "      <th>267</th>\n",
       "      <td>268</td>\n",
       "      <td>22</td>\n",
       "      <td>Male</td>\n",
       "      <td>Graduate</td>\n",
       "      <td>Russia</td>\n",
       "      <td>4.3</td>\n",
       "      <td>VKontakte</td>\n",
       "      <td>No</td>\n",
       "      <td>7.7</td>\n",
       "      <td>7</td>\n",
       "      <td>In Relationship</td>\n",
       "      <td>2</td>\n",
       "      <td>5</td>\n",
       "    </tr>\n",
       "    <tr>\n",
       "      <th>396</th>\n",
       "      <td>397</td>\n",
       "      <td>19</td>\n",
       "      <td>Female</td>\n",
       "      <td>Undergraduate</td>\n",
       "      <td>USA</td>\n",
       "      <td>7.5</td>\n",
       "      <td>Instagram</td>\n",
       "      <td>Yes</td>\n",
       "      <td>4.8</td>\n",
       "      <td>5</td>\n",
       "      <td>In Relationship</td>\n",
       "      <td>4</td>\n",
       "      <td>9</td>\n",
       "    </tr>\n",
       "    <tr>\n",
       "      <th>699</th>\n",
       "      <td>700</td>\n",
       "      <td>22</td>\n",
       "      <td>Male</td>\n",
       "      <td>Graduate</td>\n",
       "      <td>UK</td>\n",
       "      <td>6.2</td>\n",
       "      <td>Twitter</td>\n",
       "      <td>Yes</td>\n",
       "      <td>6.3</td>\n",
       "      <td>5</td>\n",
       "      <td>Single</td>\n",
       "      <td>4</td>\n",
       "      <td>8</td>\n",
       "    </tr>\n",
       "    <tr>\n",
       "      <th>249</th>\n",
       "      <td>250</td>\n",
       "      <td>21</td>\n",
       "      <td>Male</td>\n",
       "      <td>Graduate</td>\n",
       "      <td>Italy</td>\n",
       "      <td>5.6</td>\n",
       "      <td>TikTok</td>\n",
       "      <td>Yes</td>\n",
       "      <td>6.6</td>\n",
       "      <td>5</td>\n",
       "      <td>In Relationship</td>\n",
       "      <td>3</td>\n",
       "      <td>8</td>\n",
       "    </tr>\n",
       "    <tr>\n",
       "      <th>397</th>\n",
       "      <td>398</td>\n",
       "      <td>21</td>\n",
       "      <td>Male</td>\n",
       "      <td>Graduate</td>\n",
       "      <td>Mexico</td>\n",
       "      <td>6.3</td>\n",
       "      <td>WhatsApp</td>\n",
       "      <td>Yes</td>\n",
       "      <td>5.9</td>\n",
       "      <td>6</td>\n",
       "      <td>Single</td>\n",
       "      <td>3</td>\n",
       "      <td>7</td>\n",
       "    </tr>\n",
       "  </tbody>\n",
       "</table>\n",
       "</div>"
      ],
      "text/plain": [
       "     Student_ID  Age  Gender Academic_Level Country  Avg_Daily_Usage_Hours  \\\n",
       "267         268   22    Male       Graduate  Russia                    4.3   \n",
       "396         397   19  Female  Undergraduate     USA                    7.5   \n",
       "699         700   22    Male       Graduate      UK                    6.2   \n",
       "249         250   21    Male       Graduate   Italy                    5.6   \n",
       "397         398   21    Male       Graduate  Mexico                    6.3   \n",
       "\n",
       "    Most_Used_Platform Affects_Academic_Performance  Sleep_Hours_Per_Night  \\\n",
       "267          VKontakte                           No                    7.7   \n",
       "396          Instagram                          Yes                    4.8   \n",
       "699            Twitter                          Yes                    6.3   \n",
       "249             TikTok                          Yes                    6.6   \n",
       "397           WhatsApp                          Yes                    5.9   \n",
       "\n",
       "     Mental_Health_Score Relationship_Status  Conflicts_Over_Social_Media  \\\n",
       "267                    7     In Relationship                            2   \n",
       "396                    5     In Relationship                            4   \n",
       "699                    5              Single                            4   \n",
       "249                    5     In Relationship                            3   \n",
       "397                    6              Single                            3   \n",
       "\n",
       "     Addicted_Score  \n",
       "267               5  \n",
       "396               9  \n",
       "699               8  \n",
       "249               8  \n",
       "397               7  "
      ]
     },
     "execution_count": 28,
     "metadata": {},
     "output_type": "execute_result"
    }
   ],
   "source": [
    "# Showing a random sample of 5 records\n",
    "\n",
    "df.sample(5)"
   ]
  },
  {
   "cell_type": "code",
   "execution_count": 29,
   "metadata": {
    "colab": {
     "base_uri": "https://localhost:8080/"
    },
    "id": "DV3O3EQP0IJ5",
    "outputId": "206f64bb-28a5-4fca-a133-69bd4526fe45"
   },
   "outputs": [
    {
     "name": "stdout",
     "output_type": "stream",
     "text": [
      "Number of rows: 705\n",
      "Number of columns: 13\n"
     ]
    }
   ],
   "source": [
    "# Check the number of columns and rows in the dataframe\n",
    "\n",
    "print('Number of rows:', df.shape[0])\n",
    "print('Number of columns:', df.shape[1])"
   ]
  },
  {
   "cell_type": "code",
   "execution_count": 30,
   "metadata": {
    "colab": {
     "base_uri": "https://localhost:8080/",
     "height": 300
    },
    "id": "FxVOAC21RMEK",
    "outputId": "43166405-cfe8-4e87-c431-0ccd68550c9c"
   },
   "outputs": [
    {
     "data": {
      "text/html": [
       "<div>\n",
       "<style scoped>\n",
       "    .dataframe tbody tr th:only-of-type {\n",
       "        vertical-align: middle;\n",
       "    }\n",
       "\n",
       "    .dataframe tbody tr th {\n",
       "        vertical-align: top;\n",
       "    }\n",
       "\n",
       "    .dataframe thead th {\n",
       "        text-align: right;\n",
       "    }\n",
       "</style>\n",
       "<table border=\"1\" class=\"dataframe\">\n",
       "  <thead>\n",
       "    <tr style=\"text-align: right;\">\n",
       "      <th></th>\n",
       "      <th>Student_ID</th>\n",
       "      <th>Age</th>\n",
       "      <th>Avg_Daily_Usage_Hours</th>\n",
       "      <th>Sleep_Hours_Per_Night</th>\n",
       "      <th>Mental_Health_Score</th>\n",
       "      <th>Conflicts_Over_Social_Media</th>\n",
       "      <th>Addicted_Score</th>\n",
       "    </tr>\n",
       "  </thead>\n",
       "  <tbody>\n",
       "    <tr>\n",
       "      <th>count</th>\n",
       "      <td>705.000000</td>\n",
       "      <td>705.000000</td>\n",
       "      <td>705.000000</td>\n",
       "      <td>705.000000</td>\n",
       "      <td>705.000000</td>\n",
       "      <td>705.000000</td>\n",
       "      <td>705.000000</td>\n",
       "    </tr>\n",
       "    <tr>\n",
       "      <th>mean</th>\n",
       "      <td>353.000000</td>\n",
       "      <td>20.659574</td>\n",
       "      <td>4.918723</td>\n",
       "      <td>6.868936</td>\n",
       "      <td>6.226950</td>\n",
       "      <td>2.849645</td>\n",
       "      <td>6.436879</td>\n",
       "    </tr>\n",
       "    <tr>\n",
       "      <th>std</th>\n",
       "      <td>203.660256</td>\n",
       "      <td>1.399217</td>\n",
       "      <td>1.257395</td>\n",
       "      <td>1.126848</td>\n",
       "      <td>1.105055</td>\n",
       "      <td>0.957968</td>\n",
       "      <td>1.587165</td>\n",
       "    </tr>\n",
       "    <tr>\n",
       "      <th>min</th>\n",
       "      <td>1.000000</td>\n",
       "      <td>18.000000</td>\n",
       "      <td>1.500000</td>\n",
       "      <td>3.800000</td>\n",
       "      <td>4.000000</td>\n",
       "      <td>0.000000</td>\n",
       "      <td>2.000000</td>\n",
       "    </tr>\n",
       "    <tr>\n",
       "      <th>25%</th>\n",
       "      <td>177.000000</td>\n",
       "      <td>19.000000</td>\n",
       "      <td>4.100000</td>\n",
       "      <td>6.000000</td>\n",
       "      <td>5.000000</td>\n",
       "      <td>2.000000</td>\n",
       "      <td>5.000000</td>\n",
       "    </tr>\n",
       "    <tr>\n",
       "      <th>50%</th>\n",
       "      <td>353.000000</td>\n",
       "      <td>21.000000</td>\n",
       "      <td>4.800000</td>\n",
       "      <td>6.900000</td>\n",
       "      <td>6.000000</td>\n",
       "      <td>3.000000</td>\n",
       "      <td>7.000000</td>\n",
       "    </tr>\n",
       "    <tr>\n",
       "      <th>75%</th>\n",
       "      <td>529.000000</td>\n",
       "      <td>22.000000</td>\n",
       "      <td>5.800000</td>\n",
       "      <td>7.700000</td>\n",
       "      <td>7.000000</td>\n",
       "      <td>4.000000</td>\n",
       "      <td>8.000000</td>\n",
       "    </tr>\n",
       "    <tr>\n",
       "      <th>max</th>\n",
       "      <td>705.000000</td>\n",
       "      <td>24.000000</td>\n",
       "      <td>8.500000</td>\n",
       "      <td>9.600000</td>\n",
       "      <td>9.000000</td>\n",
       "      <td>5.000000</td>\n",
       "      <td>9.000000</td>\n",
       "    </tr>\n",
       "  </tbody>\n",
       "</table>\n",
       "</div>"
      ],
      "text/plain": [
       "       Student_ID         Age  Avg_Daily_Usage_Hours  Sleep_Hours_Per_Night  \\\n",
       "count  705.000000  705.000000             705.000000             705.000000   \n",
       "mean   353.000000   20.659574               4.918723               6.868936   \n",
       "std    203.660256    1.399217               1.257395               1.126848   \n",
       "min      1.000000   18.000000               1.500000               3.800000   \n",
       "25%    177.000000   19.000000               4.100000               6.000000   \n",
       "50%    353.000000   21.000000               4.800000               6.900000   \n",
       "75%    529.000000   22.000000               5.800000               7.700000   \n",
       "max    705.000000   24.000000               8.500000               9.600000   \n",
       "\n",
       "       Mental_Health_Score  Conflicts_Over_Social_Media  Addicted_Score  \n",
       "count           705.000000                   705.000000      705.000000  \n",
       "mean              6.226950                     2.849645        6.436879  \n",
       "std               1.105055                     0.957968        1.587165  \n",
       "min               4.000000                     0.000000        2.000000  \n",
       "25%               5.000000                     2.000000        5.000000  \n",
       "50%               6.000000                     3.000000        7.000000  \n",
       "75%               7.000000                     4.000000        8.000000  \n",
       "max               9.000000                     5.000000        9.000000  "
      ]
     },
     "execution_count": 30,
     "metadata": {},
     "output_type": "execute_result"
    }
   ],
   "source": [
    "# Descriptive view of the dataframe\n",
    "\n",
    "df.describe()"
   ]
  },
  {
   "cell_type": "markdown",
   "metadata": {
    "id": "7lBejaS2CEVt"
   },
   "source": [
    "### Data cleaning"
   ]
  },
  {
   "cell_type": "code",
   "execution_count": 31,
   "metadata": {
    "colab": {
     "base_uri": "https://localhost:8080/",
     "height": 491
    },
    "id": "Nxh7YLNsd-eS",
    "outputId": "d5334eea-99da-47be-affb-c620d43c92a3"
   },
   "outputs": [
    {
     "data": {
      "text/plain": [
       "Student_ID                      0\n",
       "Age                             0\n",
       "Gender                          0\n",
       "Academic_Level                  0\n",
       "Country                         0\n",
       "Avg_Daily_Usage_Hours           0\n",
       "Most_Used_Platform              0\n",
       "Affects_Academic_Performance    0\n",
       "Sleep_Hours_Per_Night           0\n",
       "Mental_Health_Score             0\n",
       "Relationship_Status             0\n",
       "Conflicts_Over_Social_Media     0\n",
       "Addicted_Score                  0\n",
       "dtype: int64"
      ]
     },
     "execution_count": 31,
     "metadata": {},
     "output_type": "execute_result"
    }
   ],
   "source": [
    "# check missing values\n",
    "\n",
    "df.isnull().sum()"
   ]
  },
  {
   "cell_type": "markdown",
   "metadata": {
    "id": "9AeJi11AiujW"
   },
   "source": [
    "- *From the above code we found that there are no null values*\n",
    "- *But if there were any null values then to handle missing values following will be applied*"
   ]
  },
  {
   "cell_type": "markdown",
   "metadata": {
    "id": "9EdY8Esj1M3a"
   },
   "source": [
    "**We can use two methods for cleaning null values**"
   ]
  },
  {
   "cell_type": "markdown",
   "metadata": {
    "id": "BFr03_MO1XEr"
   },
   "source": [
    "1. Dropping the null value rows"
   ]
  },
  {
   "cell_type": "code",
   "execution_count": 32,
   "metadata": {
    "id": "fa79vbr2d-ba"
   },
   "outputs": [],
   "source": [
    "df.dropna(inplace = True)"
   ]
  },
  {
   "cell_type": "markdown",
   "metadata": {
    "id": "Bx8zmQd-1f0q"
   },
   "source": [
    "2. Filling missing values in numerical columns with the mean of the column"
   ]
  },
  {
   "cell_type": "code",
   "execution_count": 33,
   "metadata": {
    "colab": {
     "base_uri": "https://localhost:8080/"
    },
    "id": "UV6oEf5b0yJl",
    "outputId": "c8fc44dd-19b8-4859-de92-f0d1d727e121"
   },
   "outputs": [
    {
     "name": "stdout",
     "output_type": "stream",
     "text": [
      "Missing values BEFORE applying fillna:\n",
      "Student_ID                      0\n",
      "Age                             0\n",
      "Gender                          0\n",
      "Academic_Level                  0\n",
      "Country                         0\n",
      "Avg_Daily_Usage_Hours           0\n",
      "Most_Used_Platform              0\n",
      "Affects_Academic_Performance    0\n",
      "Sleep_Hours_Per_Night           0\n",
      "Mental_Health_Score             0\n",
      "Relationship_Status             0\n",
      "Conflicts_Over_Social_Media     0\n",
      "Addicted_Score                  0\n",
      "dtype: int64\n",
      "--------------------------------------------------\n",
      "\n",
      "Missing values AFTER applying fillna:\n",
      "Student_ID                      0\n",
      "Age                             0\n",
      "Gender                          0\n",
      "Academic_Level                  0\n",
      "Country                         0\n",
      "Avg_Daily_Usage_Hours           0\n",
      "Most_Used_Platform              0\n",
      "Affects_Academic_Performance    0\n",
      "Sleep_Hours_Per_Night           0\n",
      "Mental_Health_Score             0\n",
      "Relationship_Status             0\n",
      "Conflicts_Over_Social_Media     0\n",
      "Addicted_Score                  0\n",
      "dtype: int64\n"
     ]
    }
   ],
   "source": [
    "# Checking missing values before applying fillna\n",
    "print(\"Missing values BEFORE applying fillna:\")\n",
    "print(df.isnull().sum())\n",
    "print('-' * 50)\n",
    "\n",
    "numerical_cols = df.select_dtypes(include = np.number).columns\n",
    "\n",
    "for col in numerical_cols:\n",
    "    df[col].fillna(df[col].mean(), inplace = True)\n",
    "\n",
    "# Checking missing values after applying fillna\n",
    "print(\"\\nMissing values AFTER applying fillna:\")\n",
    "print(df.isnull().sum())"
   ]
  },
  {
   "cell_type": "code",
   "execution_count": 34,
   "metadata": {
    "colab": {
     "base_uri": "https://localhost:8080/",
     "height": 491
    },
    "id": "KbNzS9Xcd-YY",
    "outputId": "2e2bdf7c-7e95-4a15-b7c3-94350222f392"
   },
   "outputs": [
    {
     "data": {
      "text/plain": [
       "Student_ID                        int64\n",
       "Age                               int64\n",
       "Gender                           object\n",
       "Academic_Level                   object\n",
       "Country                          object\n",
       "Avg_Daily_Usage_Hours           float64\n",
       "Most_Used_Platform               object\n",
       "Affects_Academic_Performance     object\n",
       "Sleep_Hours_Per_Night           float64\n",
       "Mental_Health_Score               int64\n",
       "Relationship_Status              object\n",
       "Conflicts_Over_Social_Media       int64\n",
       "Addicted_Score                    int64\n",
       "dtype: object"
      ]
     },
     "execution_count": 34,
     "metadata": {},
     "output_type": "execute_result"
    }
   ],
   "source": [
    "# Identify incorrect datatypes\n",
    "\n",
    "df.dtypes"
   ]
  },
  {
   "cell_type": "markdown",
   "metadata": {
    "id": "bPKJXvqljO80"
   },
   "source": [
    "- *As seen on the above result datatypes are good and does not require any cleaning*\n",
    "- *But if there were any dataypes mismatch then we can use the following*"
   ]
  },
  {
   "cell_type": "markdown",
   "metadata": {
    "id": "c3PRkg3s2kTY"
   },
   "source": [
    "**We can use two methods for datatype correction**"
   ]
  },
  {
   "cell_type": "markdown",
   "metadata": {
    "id": "GN4z1tYl3BhG"
   },
   "source": [
    "1. Using astype()"
   ]
  },
  {
   "cell_type": "code",
   "execution_count": 35,
   "metadata": {
    "id": "rGtodv3dd-TH"
   },
   "outputs": [],
   "source": [
    "# if Age column (integer) had incorrect datatype, the following code will fix it\n",
    "\n",
    "df['Age'] = df['Age'].astype(int)\n"
   ]
  },
  {
   "cell_type": "markdown",
   "metadata": {
    "id": "2SgjJTOg3KFl"
   },
   "source": [
    "2. using pd.to_numeric()"
   ]
  },
  {
   "cell_type": "code",
   "execution_count": 36,
   "metadata": {
    "colab": {
     "base_uri": "https://localhost:8080/"
    },
    "id": "P-yqoOLw2Gex",
    "outputId": "55929c7d-89fb-4387-d34b-c2ed5695b2b4"
   },
   "outputs": [
    {
     "name": "stdout",
     "output_type": "stream",
     "text": [
      "\n",
      "Datatype of 'Avg_Daily_Usage_Hours' BEFORE conversion:\n",
      "float64\n",
      "--------------------------------------------------------------------------------\n",
      "\n",
      "Number of non-numeric values after converting 'Avg_Daily_Usage_Hours':\n",
      "0\n",
      "--------------------------------------------------------------------------------\n",
      "\n",
      "Datatype of 'Avg_Daily_Usage_Hours' AFTER conversion:\n",
      "float64\n"
     ]
    }
   ],
   "source": [
    "# Check the datatype before conversion\n",
    "print(\"\\nDatatype of 'Avg_Daily_Usage_Hours' BEFORE conversion:\")\n",
    "print(df['Avg_Daily_Usage_Hours'].dtype)\n",
    "print('-' * 80)\n",
    "\n",
    "# Convert 'Avg_Daily_Usage_Hours' to numeric\n",
    "df['Avg_Daily_Usage_Hours'] = pd.to_numeric(df['Avg_Daily_Usage_Hours'], errors = 'coerce')\n",
    "\n",
    "# Check for any values that couldn't be converted\n",
    "print(\"\\nNumber of non-numeric values after converting 'Avg_Daily_Usage_Hours':\")\n",
    "print(df['Avg_Daily_Usage_Hours'].isnull().sum())\n",
    "print('-' * 80)\n",
    "\n",
    "# Verify the datatype\n",
    "print(\"\\nDatatype of 'Avg_Daily_Usage_Hours' AFTER conversion:\")\n",
    "print(df['Avg_Daily_Usage_Hours'].dtype)"
   ]
  },
  {
   "cell_type": "markdown",
   "metadata": {
    "id": "_m8Lu03Do9KJ"
   },
   "source": [
    "### Understanding relationships between Age, Gender & Daily Usage"
   ]
  },
  {
   "cell_type": "code",
   "execution_count": 37,
   "metadata": {
    "colab": {
     "base_uri": "https://localhost:8080/"
    },
    "id": "_knzlXztd-QQ",
    "outputId": "992a413e-348b-46e9-d9b9-4d9cc827c7c6"
   },
   "outputs": [
    {
     "name": "stdout",
     "output_type": "stream",
     "text": [
      "Average Daily Usage by Age:\n",
      "Age\n",
      "18    5.385714\n",
      "19    5.120245\n",
      "20    4.930303\n",
      "21    4.950641\n",
      "22    4.676190\n",
      "23    4.508824\n",
      "24    5.046154\n",
      "Name: Avg_Daily_Usage_Hours, dtype: float64\n",
      "\n",
      "--------------------------------------------------\n",
      "\n",
      "Average Daily Usage by Gender:\n",
      "Gender\n",
      "Female    5.011048\n",
      "Male      4.826136\n",
      "Name: Avg_Daily_Usage_Hours, dtype: float64\n"
     ]
    }
   ],
   "source": [
    "# Average daily usage hours by age\n",
    "usage_by_age = df.groupby('Age')['Avg_Daily_Usage_Hours'].mean()\n",
    "print(\"Average Daily Usage by Age:\")\n",
    "print(f\"{usage_by_age}\\n\")\n",
    "print('-' * 50)\n",
    "\n",
    "# Average daily usage hours by gender\n",
    "print(\"\\nAverage Daily Usage by Gender:\")\n",
    "usage_by_gender = df.groupby('Gender')['Avg_Daily_Usage_Hours'].mean()\n",
    "print(usage_by_gender)"
   ]
  },
  {
   "cell_type": "markdown",
   "metadata": {
    "id": "t_YPmXhK9fRY"
   },
   "source": [
    "**Age, Gender & Daily Usage data observations :**\n",
    "- *Students aged 18 tend to have the highest average daily usage, while students aged 23 tend to have the lowest*.\n",
    "- *The average daily social media usage is slightly higher for female students compared to male students*.\n"
   ]
  },
  {
   "cell_type": "markdown",
   "metadata": {
    "id": "n0oDG3FWA3Vg"
   },
   "source": [
    "### Understanding relationships between Sleep patterns, Academic performance & Social interaction"
   ]
  },
  {
   "cell_type": "code",
   "execution_count": 38,
   "metadata": {
    "colab": {
     "base_uri": "https://localhost:8080/"
    },
    "id": "M3l7mWMKd-NP",
    "outputId": "1662222b-ef93-49c8-fccd-aa4f3acef073"
   },
   "outputs": [
    {
     "name": "stdout",
     "output_type": "stream",
     "text": [
      "Relationship between Sleep Hours and Academic Performance:\n",
      "Affects_Academic_Performance\n",
      "No     7.813095\n",
      "Yes    6.343709\n",
      "Name: Sleep_Hours_Per_Night, dtype: float64\n",
      "\n",
      "--------------------------------------------------\n",
      "\n",
      "Relationship between Sleep Hours and Mental Health Score:\n",
      "Sleep_Hours_Per_Night\n",
      "3.8    5.000000\n",
      "3.9    5.000000\n",
      "4.0    5.000000\n",
      "4.1    5.500000\n",
      "4.2    5.500000\n",
      "4.3    5.500000\n",
      "4.4    5.500000\n",
      "4.5    5.000000\n",
      "4.6    5.666667\n",
      "4.7    5.666667\n",
      "Name: Mental_Health_Score, dtype: float64\n",
      "\n",
      "--------------------------------------------------\n",
      "\n",
      "Relationship between Conflicts over Social Media and Relationship Status:\n",
      "Relationship_Status\n",
      "Complicated        3.031250\n",
      "In Relationship    2.761246\n",
      "Single             2.901042\n",
      "Name: Conflicts_Over_Social_Media, dtype: float64\n"
     ]
    }
   ],
   "source": [
    "# Average sleep hours per night by affect on affect on academic performance\n",
    "print(\"Relationship between Sleep Hours and Academic Performance:\")\n",
    "academic_vs_sleepHours = df.groupby('Affects_Academic_Performance')['Sleep_Hours_Per_Night'].mean()\n",
    "print(f\"{academic_vs_sleepHours}\\n\")\n",
    "print('-' * 50)\n",
    "\n",
    "# Average mental health score by sleep hours per night\n",
    "print(\"\\nRelationship between Sleep Hours and Mental Health Score:\")\n",
    "sleepHours_vs_mentalHealth = df.groupby('Sleep_Hours_Per_Night')['Mental_Health_Score'].mean()\n",
    "print(f\"{sleepHours_vs_mentalHealth.head(10)}\\n\")\n",
    "print('-' * 50)\n",
    "\n",
    "# Average social media conflicts by relationship status\n",
    "print(\"\\nRelationship between Conflicts over Social Media and Relationship Status:\")\n",
    "rel_status_vs_conflict = df.groupby('Relationship_Status')['Conflicts_Over_Social_Media'].mean()\n",
    "print(rel_status_vs_conflict)"
   ]
  },
  {
   "cell_type": "markdown",
   "metadata": {
    "id": "g9m7hbV39t78"
   },
   "source": [
    "**Sleep patterns, Academic performance & Social interaction data observations :**\n",
    "- *Students whose academic performance is affected by social media tend to get less sleep than those whose academic performance is not affected*.\n",
    "- *There seems to be a trend that students who get fewer hours of sleep per night tend to have lower mental health scores*.\n",
    "- *Students in 'Complicated' relationships report slightly more conflicts over social media compared to those who are 'Single' or 'In Relationship'*."
   ]
  },
  {
   "cell_type": "markdown",
   "metadata": {
    "id": "dXqucN69BLD3"
   },
   "source": [
    "### Addiction variation across demographics"
   ]
  },
  {
   "cell_type": "code",
   "execution_count": 39,
   "metadata": {
    "colab": {
     "base_uri": "https://localhost:8080/"
    },
    "id": "Wr9iJCzMd-Kg",
    "outputId": "78a1fe07-3b75-4497-cce7-4c93d01c9315"
   },
   "outputs": [
    {
     "name": "stdout",
     "output_type": "stream",
     "text": [
      "Average Addiction Score by Gender:\n",
      "Gender\n",
      "Female    6.515581\n",
      "Male      6.357955\n",
      "Name: Addicted_Score, dtype: float64\n",
      "\n",
      "--------------------------------------------------\n",
      "\n",
      "Average Addiction Score by Academic Level:\n",
      "Academic_Level\n",
      "Graduate         6.243077\n",
      "High School      8.037037\n",
      "Undergraduate    6.492918\n",
      "Name: Addicted_Score, dtype: float64\n",
      "\n",
      "--------------------------------------------------\n",
      "\n",
      "Average Addiction Score by Age:\n",
      "Age\n",
      "18    7.785714\n",
      "19    6.650307\n",
      "20    6.478788\n",
      "21    6.589744\n",
      "22    6.095238\n",
      "23    5.676471\n",
      "24    6.115385\n",
      "Name: Addicted_Score, dtype: float64\n"
     ]
    }
   ],
   "source": [
    "# Average addiction score by Gender\n",
    "print(\"Average Addiction Score by Gender:\")\n",
    "print(f\"{df.groupby('Gender')['Addicted_Score'].mean()}\\n\")\n",
    "print('-' * 50)\n",
    "\n",
    "# Average addiction score by Academic Level\n",
    "print(\"\\nAverage Addiction Score by Academic Level:\")\n",
    "print(f\"{df.groupby('Academic_Level')['Addicted_Score'].mean()}\\n\")\n",
    "print('-' * 50)\n",
    "\n",
    "# Average addiction score by Age\n",
    "print(\"\\nAverage Addiction Score by Age:\")\n",
    "print(df.groupby('Age')['Addicted_Score'].mean())"
   ]
  },
  {
   "cell_type": "markdown",
   "metadata": {
    "id": "Dp9YOPwH-PI2"
   },
   "source": [
    "**Addiction across demographic (gender, academic level & age) observations :**\n",
    "- *Addiction score tends to be higher in Females but only by a slight margin*.\n",
    "- *High School students tend to have higher addiction score*.\n",
    "- S*tudents aged 18 years have the highest addiction score*."
   ]
  },
  {
   "cell_type": "markdown",
   "metadata": {
    "id": "-WIGt-8TrH_i"
   },
   "source": [
    "### Average addiction level across different Genders"
   ]
  },
  {
   "cell_type": "code",
   "execution_count": 40,
   "metadata": {
    "colab": {
     "base_uri": "https://localhost:8080/"
    },
    "id": "zuBYjFD0qWAs",
    "outputId": "51c422ba-695d-44a5-9ea9-7ac428188207"
   },
   "outputs": [
    {
     "name": "stdout",
     "output_type": "stream",
     "text": [
      "Average addiction level by Gender:\n",
      "----------------------------------------\n",
      "Gender\n",
      "Female    6.515581\n",
      "Male      6.357955\n",
      "Name: Addicted_Score, dtype: float64\n"
     ]
    }
   ],
   "source": [
    "print(\"Average addiction level by Gender:\")\n",
    "print('-' * 40)\n",
    "print(df.groupby('Gender')['Addicted_Score'].mean())"
   ]
  },
  {
   "cell_type": "markdown",
   "metadata": {
    "id": "Q2OlzOjLBT7W"
   },
   "source": [
    "### Average addiction level across different Age groups"
   ]
  },
  {
   "cell_type": "code",
   "execution_count": 41,
   "metadata": {
    "colab": {
     "base_uri": "https://localhost:8080/"
    },
    "id": "eLO2Jogurl0w",
    "outputId": "94232754-a8c3-4b10-ddba-74b45fdff60e"
   },
   "outputs": [
    {
     "name": "stdout",
     "output_type": "stream",
     "text": [
      "\n",
      "Average addiction level by Age group:\n",
      "----------------------------------------\n",
      "Age\n",
      "18    7.785714\n",
      "19    6.650307\n",
      "20    6.478788\n",
      "21    6.589744\n",
      "22    6.095238\n",
      "23    5.676471\n",
      "24    6.115385\n",
      "Name: Addicted_Score, dtype: float64\n"
     ]
    }
   ],
   "source": [
    "print(\"\\nAverage addiction level by Age group:\")\n",
    "print('-' * 40)\n",
    "print(df.groupby('Age')['Addicted_Score'].mean())"
   ]
  },
  {
   "cell_type": "markdown",
   "metadata": {
    "id": "1F8_LZiSBXbV"
   },
   "source": [
    "### Average addiction level across different Education levels"
   ]
  },
  {
   "cell_type": "code",
   "execution_count": 42,
   "metadata": {
    "colab": {
     "base_uri": "https://localhost:8080/"
    },
    "id": "71NQ2XBfrlyC",
    "outputId": "6bcfd882-b948-4d7b-8ce7-899885d82243"
   },
   "outputs": [
    {
     "name": "stdout",
     "output_type": "stream",
     "text": [
      "\n",
      "Average addiction level by Education level:\n",
      "---------------------------------------------\n",
      "Academic_Level\n",
      "Graduate         6.243077\n",
      "High School      8.037037\n",
      "Undergraduate    6.492918\n",
      "Name: Addicted_Score, dtype: float64\n"
     ]
    }
   ],
   "source": [
    "print(\"\\nAverage addiction level by Education level:\")\n",
    "print('-' * 45)\n",
    "print(df.groupby('Academic_Level')['Addicted_Score'].mean())"
   ]
  },
  {
   "cell_type": "markdown",
   "metadata": {
    "id": "f4VRjnYNr6IC"
   },
   "source": [
    "### Classifying risk level (Low/Medium/High) based on usage hours"
   ]
  },
  {
   "cell_type": "code",
   "execution_count": 43,
   "metadata": {
    "colab": {
     "base_uri": "https://localhost:8080/"
    },
    "id": "0DYFI3AirlvS",
    "outputId": "0cf75bbc-20db-4576-f368-ceaf418c1d5f"
   },
   "outputs": [
    {
     "name": "stdout",
     "output_type": "stream",
     "text": [
      "Risk Level Classification:\n",
      "------------------------------\n",
      "Risk_Level\n",
      "Medium Risk    512\n",
      "High Risk      150\n",
      "Low Risk        43\n",
      "Name: count, dtype: int64\n"
     ]
    }
   ],
   "source": [
    "def classify_risk(usage_hours):\n",
    "    '''\n",
    "    This function returns the risk level based on the average daily usage hours passed in the argument.\n",
    "    It uses if elif else conditions to return the appropriate risk level.\n",
    "    '''\n",
    "\n",
    "    if usage_hours < 3:\n",
    "        return \"Low Risk\"\n",
    "\n",
    "    elif 3 <= usage_hours < 6:\n",
    "        return \"Medium Risk\"\n",
    "\n",
    "    else:\n",
    "        return \"High Risk\"\n",
    "\n",
    "# creating a new column for risk level with the risk level returned from above function\n",
    "df['Risk_Level'] = df['Avg_Daily_Usage_Hours'].apply(classify_risk)\n",
    "\n",
    "print(\"Risk Level Classification:\")\n",
    "print('-' * 30)\n",
    "print(df['Risk_Level'].value_counts())"
   ]
  },
  {
   "cell_type": "markdown",
   "metadata": {
    "id": "CmBFyY_wBfiu"
   },
   "source": [
    "### Preparing Digital detox strategies"
   ]
  },
  {
   "cell_type": "code",
   "execution_count": 44,
   "metadata": {
    "colab": {
     "base_uri": "https://localhost:8080/"
    },
    "id": "QENtcGxXrlsZ",
    "outputId": "35d71573-da59-4f8c-e388-df04907d1b1e"
   },
   "outputs": [
    {
     "name": "stdout",
     "output_type": "stream",
     "text": [
      "\n",
      "Digital Detox Suggestions:\n",
      "------------------------------\n",
      "For Student ID 613 (Medium Risk): Try setting daily time limits, scheduling screen-free activities, and being mindful of usage.\n",
      "\n",
      "For Student ID 233 (Medium Risk): Try setting daily time limits, scheduling screen-free activities, and being mindful of usage.\n",
      "\n",
      "For Student ID 243 (Medium Risk): Try setting daily time limits, scheduling screen-free activities, and being mindful of usage.\n",
      "\n",
      "For Student ID 225 (Medium Risk): Try setting daily time limits, scheduling screen-free activities, and being mindful of usage.\n",
      "\n",
      "For Student ID 193 (High Risk): Consider significantly reducing usage, setting strict limits, and seeking professional help if needed.\n",
      "\n"
     ]
    }
   ],
   "source": [
    "def suggest_detox(risk_level):\n",
    "    '''\n",
    "    This function returns digital detox strategies based on the risk level passed in the argument.\n",
    "    It is using if elif else conditions to return the appropriate strategy.\n",
    "    '''\n",
    "\n",
    "    if risk_level == \"High Risk\":\n",
    "        return \"Consider significantly reducing usage, setting strict limits, and seeking professional help if needed.\"\n",
    "\n",
    "    elif risk_level == \"Medium Risk\":\n",
    "        return \"Try setting daily time limits, scheduling screen-free activities, and being mindful of usage.\"\n",
    "\n",
    "    else:\n",
    "        return \"Continue healthy usage habits, be aware of potential triggers, and maintain a balanced lifestyle.\"\n",
    "\n",
    "# creating a new column for Detox suggestions with the values returned from the above function\n",
    "df['Detox_Suggestion'] = df['Risk_Level'].apply(suggest_detox)\n",
    "\n",
    "print(\"\\nDigital Detox Suggestions:\")\n",
    "print('-' * 30)\n",
    "\n",
    "# taking a random sample of 5 records to show a the Detox assessment\n",
    "for index, row in df.sample(5).iterrows():\n",
    "    print(f\"For Student ID {row['Student_ID']} ({row['Risk_Level']}): {row['Detox_Suggestion']}\\n\")"
   ]
  },
  {
   "cell_type": "markdown",
   "metadata": {
    "id": "iwUyjjf8sRxY"
   },
   "source": [
    "### Visualizing the data\n",
    "\n"
   ]
  },
  {
   "cell_type": "markdown",
   "metadata": {
    "id": "STBTiTD32FBI"
   },
   "source": [
    "### Bar chart: Average Addiction Score by Academic Level"
   ]
  },
  {
   "cell_type": "code",
   "execution_count": 45,
   "metadata": {
    "colab": {
     "base_uri": "https://localhost:8080/",
     "height": 607
    },
    "id": "IwN-pE-GrlnF",
    "outputId": "2942491a-65f2-4cf3-817c-37016e4ae247"
   },
   "outputs": [
    {
     "data": {
      "image/png": "[encoded data removed]",
      "text/plain": [
       "<Figure size 1000x600 with 1 Axes>"
      ]
     },
     "metadata": {},
     "output_type": "display_data"
    }
   ],
   "source": [
    "plt.figure(figsize = (10, 6))\n",
    "\n",
    "# creating a bar plot\n",
    "ax = sns.barplot(x = 'Academic_Level', y = 'Addicted_Score', data = df, palette = 'Set2', ci = None)\n",
    "plt.title('Average Addiction Score by Academic Level', color = 'darkgreen', weight = 'bold')\n",
    "plt.ylabel('Average Addiction Score', color = 'red')\n",
    "plt.xlabel('Academic Level', color = 'red')\n",
    "\n",
    "# Add labels above the bars with padding\n",
    "for container in ax.containers:\n",
    "    ax.bar_label(container, fmt = '%.2f', padding = 3, color = 'black', weight = 'bold')\n",
    "\n",
    "plt.tight_layout()\n",
    "plt.show()"
   ]
  },
  {
   "cell_type": "markdown",
   "metadata": {
    "id": "Kc8EhLNMAGsu"
   },
   "source": [
    "**Bar plot Insight:**\n",
    "- *High School students show the highest average addiction score compared to Undergraduate and Graduate students*.\n",
    "-  *Graduate and Undergraduate students have almost similar addiction scores.*"
   ]
  },
  {
   "cell_type": "markdown",
   "metadata": {
    "id": "sG6vlu4_BvH2"
   },
   "source": [
    "### Pie chart: Distribution of Risk Levels"
   ]
  },
  {
   "cell_type": "code",
   "execution_count": 46,
   "metadata": {
    "colab": {
     "base_uri": "https://localhost:8080/",
     "height": 675
    },
    "id": "0NDHjuagrlkL",
    "outputId": "49a6ce3f-178b-4c5f-ae85-166d2ccbed30"
   },
   "outputs": [
    {
     "data": {
      "image/png": "[encoded data removed]",
      "text/plain": [
       "<Figure size 800x800 with 1 Axes>"
      ]
     },
     "metadata": {},
     "output_type": "display_data"
    }
   ],
   "source": [
    "risk_counts = df['Risk_Level'].value_counts() # count of risk level\n",
    "plt.figure(figsize = (8, 8))\n",
    "\n",
    "# creating a pie chart\n",
    "plt.pie(\n",
    "    risk_counts, labels = risk_counts.index, autopct = '%1.1f%%',\n",
    "    startangle = 90, colors = sns.color_palette('rocket'), textprops={'color': 'white'}\n",
    "        )\n",
    "plt.title('Distribution of Risk Levels', color = 'darkgreen', weight = 'bold')\n",
    "plt.legend(title=\"Risk Levels\", loc=\"upper left\", bbox_to_anchor=(0, 1))\n",
    "plt.show()"
   ]
  },
  {
   "cell_type": "markdown",
   "metadata": {
    "id": "J7D-n6_EAaUu"
   },
   "source": [
    "**Pie chart Insight:**\n",
    "- *The \"Medium Risk\" category represents the largest portion of the student population studied.*\n",
    "- *While \"High Risk\" is a smaller percentage, it still indicates a significant number of students who may be experiencing more severe issues related to social media usage.*\n",
    "- *The \"Low Risk\" category is the smallest, suggesting that only a minority of students maintain low social media usage habits.*"
   ]
  },
  {
   "cell_type": "markdown",
   "metadata": {
    "id": "oyc7UASIBzwO"
   },
   "source": [
    "### Heatmap: Correlation matrix of numerical columns"
   ]
  },
  {
   "cell_type": "code",
   "execution_count": 47,
   "metadata": {
    "colab": {
     "base_uri": "https://localhost:8080/",
     "height": 834
    },
    "id": "k86fxSJtrlhj",
    "outputId": "6101de20-c352-4df9-f41a-62f4bb751196"
   },
   "outputs": [
    {
     "data": {
      "image/png": "[encoded data removed]",
      "text/plain": [
       "<Figure size 1200x800 with 2 Axes>"
      ]
     },
     "metadata": {},
     "output_type": "display_data"
    }
   ],
   "source": [
    "plt.figure(figsize = (12, 8))\n",
    "\n",
    "# creating a heat map\n",
    "sns.heatmap(\n",
    "    df[['Age', 'Avg_Daily_Usage_Hours', 'Sleep_Hours_Per_Night', 'Mental_Health_Score', 'Conflicts_Over_Social_Media', 'Addicted_Score']] # cols to be used\n",
    "            .corr(), annot = True, cmap = 'Paired', fmt = \".2f\"\n",
    "            )\n",
    "plt.title('Correlation Matrix of Numerical Columns', color = 'darkgreen', weight = 'bold')\n",
    "plt.xticks(rotation = 45, ha = 'right') # Rotate x-axis labels\n",
    "plt.yticks(rotation = 0)\n",
    "plt.show()"
   ]
  },
  {
   "cell_type": "markdown",
   "metadata": {
    "id": "LA6luuwMA8sL"
   },
   "source": [
    "**Heat map Insight:**\n",
    "- *When students spend more hours on social media each day, they tend to have higher addiction scores. This is shown by the strong positive correlation (0.93) between Avg_Daily_Usage_Hours and Addicted_Score*\n",
    "- *These higher addiction scores lead to higher conflicts on social media. This is shown by the strong positive correlation (0.93) between Conflicts_Over_Social_Media and Addicted_Score.*\n",
    "- *More daily social media usage is linked to getting fewer hours of sleep. This is shown by the strong negative correlation (-0.79) between Sleep_Hours_Per_Night and Avg_Daily_Usage_Hours.*\n",
    "- *Students with more daily social media usage tend to have lower mental health scores. This is shown by the strong negative correlation (-0.80) between Mental_Health_Score and Avg_Daily_Usage_Hours.*\n",
    "- *The lowered mental health leads to even more conflicts. This is shown by the strong negative correlation (-0.89) between Mental_Health_Score and Conflicts_Over_Social_Media.*\n",
    "\n",
    "*Which means, spending a lot of time on social media seems to be connected to negative outcomes like addiction, conflicts, poor sleep, and lower mental well-being*."
   ]
  },
  {
   "cell_type": "markdown",
   "metadata": {
    "id": "iX3HOjGFB3MU"
   },
   "source": [
    "### Line plot: Average Daily Usage Hours by Age"
   ]
  },
  {
   "cell_type": "code",
   "execution_count": 48,
   "metadata": {
    "colab": {
     "base_uri": "https://localhost:8080/",
     "height": 607
    },
    "id": "xqHhtTlfrle5",
    "outputId": "907062e4-08f6-4fe7-ac29-425099f69cb6"
   },
   "outputs": [
    {
     "data": {
      "image/png": "[encoded data removed]",
      "text/plain": [
       "<Figure size 1000x600 with 1 Axes>"
      ]
     },
     "metadata": {},
     "output_type": "display_data"
    }
   ],
   "source": [
    "data = df.groupby('Age')['Avg_Daily_Usage_Hours'].mean().reset_index()\n",
    "plt.figure(figsize = (10, 6))\n",
    "\n",
    "# creating a lineplot\n",
    "ax = sns.lineplot(x = 'Age', y = 'Avg_Daily_Usage_Hours',\n",
    "             data = data, marker = 'o',\n",
    "                  markerfacecolor='purple', color = 'blue'\n",
    "             )\n",
    "plt.title('Average Daily Usage Hours by Age', color = 'darkgreen', weight= 'bold')\n",
    "plt.ylabel('Average Daily Usage Hours', color = 'red')\n",
    "plt.xlabel('Age', color = 'red')\n",
    "plt.grid(True)\n",
    "\n",
    "# Add labels to the data points\n",
    "for x, y in df.groupby('Age')['Avg_Daily_Usage_Hours'].mean().reset_index().values:\n",
    "    plt.text(x, y, f'{y:.2f}', ha = 'left', va = 'bottom', color = 'black', fontsize = 11)\n",
    "\n",
    "plt.tight_layout()\n",
    "\n",
    "plt.show()"
   ]
  },
  {
   "cell_type": "markdown",
   "metadata": {
    "id": "Mm4e-jmyBIAK"
   },
   "source": [
    "**Line plot Insight:**\n",
    "- *Average daily social media usage hours tend to decrease as age people get older, with a significant increase at age 24*."
   ]
  },
  {
   "cell_type": "markdown",
   "metadata": {
    "id": "c34320ee"
   },
   "source": [
    "## **Summary:**\n",
    "\n",
    "Here's a summary of what was found about social media addiction among students:\n",
    "\n",
    "*   **Who is most affected?** *High school students seem to be the most likely to have higher addiction scores.*\n",
    "*   **Does age matter?** *As students get older, they tend to use social media a little less each day, but using it more still links to higher addiction scores.*\n",
    "*   **Does gender matter?** *There doesn't seem to be a big difference in addiction levels between male (6.3 score) and female (6.5 score) students.*\n",
    "*   **How does it affect sleep and mood?** *Spending a lot of time on social media is connected to getting less sleep and having lower mental health scores.*\n",
    "*   **How does it affect relationships?** *More social media use can lead to more arguments or conflicts in relationships.*\n",
    "*   **Is it a common issue?** *Yes, most students in this study are in the medium-risk group for social media usage.*\n",
    "*   **What are the main problems?** *Using social media too much, especially for younger students, can cause addiction, arguments, improper sleep routine, and lower mental well-being.*\n",
    "*   **What can help?** *To deal with this, try setting daily limits for social media, planning time for activities without screens, being more aware of how much you're using it, and if you're using it a lot, think about cutting back significantly or getting professional help.*"
   ]
  }
 ],
 "metadata": {
  "colab": {
   "provenance": []
  },
  "kernelspec": {
   "display_name": "Python 3",
   "language": "python",
   "name": "python3"
  },
  "language_info": {
   "codemirror_mode": {
    "name": "ipython",
    "version": 3
   },
   "file_extension": ".py",
   "mimetype": "text/x-python",
   "name": "python",
   "nbconvert_exporter": "python",
   "pygments_lexer": "ipython3",
   "version": "3.13.7"
  }
 },
 "nbformat": 4,
 "nbformat_minor": 4
}
